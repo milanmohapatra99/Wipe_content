{
 "cells": [
  {
   "cell_type": "markdown",
   "id": "00499666",
   "metadata": {},
   "source": [
    "W.a.p to wipeout the contents of a file using python"
   ]
  },
  {
   "cell_type": "code",
   "execution_count": 2,
   "id": "12e47609",
   "metadata": {},
   "outputs": [],
   "source": [
    "filename = \"sample2.txt\"\n",
    "with open(filename,\"w\") as f:\n",
    "    f.write(\"\")"
   ]
  },
  {
   "cell_type": "markdown",
   "id": "fb3869f0",
   "metadata": {},
   "source": [
    "w.a.p to rename a file to \"renamed_by_python.txt\".\n"
   ]
  },
  {
   "cell_type": "code",
   "execution_count": 4,
   "id": "c0292050",
   "metadata": {},
   "outputs": [],
   "source": [
    "import os\n",
    "oldname=\"this1.txt\"\n",
    "newname = \"renamed_by_python.txt\"\n",
    "with open(oldname)as f:\n",
    "    content = f.read()\n",
    "with open(newname,\"w\")as f:\n",
    "    f.write(content)\n",
    "os.remove(oldname)    "
   ]
  },
  {
   "cell_type": "code",
   "execution_count": null,
   "id": "6919f454",
   "metadata": {},
   "outputs": [],
   "source": []
  }
 ],
 "metadata": {
  "kernelspec": {
   "display_name": "Python 3 (ipykernel)",
   "language": "python",
   "name": "python3"
  },
  "language_info": {
   "codemirror_mode": {
    "name": "ipython",
    "version": 3
   },
   "file_extension": ".py",
   "mimetype": "text/x-python",
   "name": "python",
   "nbconvert_exporter": "python",
   "pygments_lexer": "ipython3",
   "version": "3.9.7"
  }
 },
 "nbformat": 4,
 "nbformat_minor": 5
}
